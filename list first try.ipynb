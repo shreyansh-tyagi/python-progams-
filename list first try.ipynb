{
 "cells": [
  {
   "cell_type": "markdown",
   "metadata": {},
   "source": [
    "# list programs\n"
   ]
  },
  {
   "cell_type": "code",
   "execution_count": 1,
   "metadata": {},
   "outputs": [
    {
     "data": {
      "text/plain": [
       "10"
      ]
     },
     "execution_count": 1,
     "metadata": {},
     "output_type": "execute_result"
    }
   ],
   "source": [
    "5+5\n"
   ]
  },
  {
   "cell_type": "code",
   "execution_count": 2,
   "metadata": {},
   "outputs": [
    {
     "name": "stdout",
     "output_type": "stream",
     "text": [
      "22\n"
     ]
    }
   ],
   "source": [
    "a=12\n",
    "b=10\n",
    "c=a+b\n",
    "print(c)"
   ]
  },
  {
   "cell_type": "code",
   "execution_count": 3,
   "metadata": {},
   "outputs": [
    {
     "data": {
      "text/plain": [
       "list"
      ]
     },
     "execution_count": 3,
     "metadata": {},
     "output_type": "execute_result"
    }
   ],
   "source": [
    "a=[1,2,3]\n",
    "type(a)"
   ]
  },
  {
   "cell_type": "code",
   "execution_count": 4,
   "metadata": {},
   "outputs": [
    {
     "data": {
      "text/plain": [
       "3"
      ]
     },
     "execution_count": 4,
     "metadata": {},
     "output_type": "execute_result"
    }
   ],
   "source": [
    "len(a)"
   ]
  },
  {
   "cell_type": "code",
   "execution_count": 69,
   "metadata": {},
   "outputs": [
    {
     "name": "stdout",
     "output_type": "stream",
     "text": [
      "enter the value : d c b a\n",
      "['a', 'b', 'c', 'd']\n",
      "[97, 98, 99, 100]\n",
      "100\n",
      "200\n",
      "300\n",
      "400\n",
      "<class 'int'>\n"
     ]
    }
   ],
   "source": [
    "\n",
    "a=list(input('enter the value : ').split(' '))\n",
    "b=len(a)\n",
    "#print(b)\n",
    "c=[]\n",
    "d=[]\n",
    "for i in range(b):\n",
    "    a.sort()\n",
    "    c.append(ord(a[i]))\n",
    "print(a)\n",
    "print(c)\n",
    "e=0\n",
    "for j in range(len(c)):\n",
    "    e+=c[i]\n",
    "    d.append(e)\n",
    "    print(int(e))\n",
    "print(type(c[i]))  \n"
   ]
  },
  {
   "cell_type": "code",
   "execution_count": 72,
   "metadata": {
    "scrolled": true
   },
   "outputs": [
    {
     "name": "stdout",
     "output_type": "stream",
     "text": [
      "enter the value :1 2 3 4\n",
      "4\n"
     ]
    }
   ],
   "source": [
    "#length function\n",
    "a=list(input('enter the value :').split(' '))\n",
    "b=len(a)\n",
    "print(b)"
   ]
  },
  {
   "cell_type": "code",
   "execution_count": 77,
   "metadata": {},
   "outputs": [
    {
     "name": "stdout",
     "output_type": "stream",
     "text": [
      "enter the value: aaa\n",
      "3\n"
     ]
    }
   ],
   "source": [
    "#count function\n",
    "a=input('enter the value: ')\n",
    "b=a.count('a')\n",
    "print(b)"
   ]
  },
  {
   "cell_type": "code",
   "execution_count": 78,
   "metadata": {},
   "outputs": [
    {
     "name": "stdout",
     "output_type": "stream",
     "text": [
      "enter the value: hello i am shreyansh tyagi\n",
      "['hello', 'i', 'shreyansh', 'tyagi']\n"
     ]
    }
   ],
   "source": [
    "#pop function --> it removes the item at given index\n",
    "a=list(input('enter the value: ').split(' '))\n",
    "b=a.pop(2)\n",
    "print(a)"
   ]
  },
  {
   "cell_type": "code",
   "execution_count": 82,
   "metadata": {},
   "outputs": [
    {
     "name": "stdout",
     "output_type": "stream",
     "text": [
      "enter the value: 1 2 3 4 5 6\n",
      "['6', '5', '4', '3', '2', '1']\n"
     ]
    }
   ],
   "source": [
    "#reverse \n",
    "a=list(input('enter the value: ').split(' '))\n",
    "b=a.reverse()\n",
    "print(a)\n",
    "\n"
   ]
  },
  {
   "cell_type": "code",
   "execution_count": 84,
   "metadata": {},
   "outputs": [
    {
     "name": "stdout",
     "output_type": "stream",
     "text": [
      "enter the value: 1 2 3 4 5\n",
      "[]\n"
     ]
    }
   ],
   "source": [
    "#clear function\n",
    "a=list(input('enter the value: ').split(' '))\n",
    "c=a.clear()\n",
    "print(a)"
   ]
  },
  {
   "cell_type": "code",
   "execution_count": null,
   "metadata": {},
   "outputs": [],
   "source": []
  }
 ],
 "metadata": {
  "kernelspec": {
   "display_name": "Python 3",
   "language": "python",
   "name": "python3"
  },
  "language_info": {
   "codemirror_mode": {
    "name": "ipython",
    "version": 3
   },
   "file_extension": ".py",
   "mimetype": "text/x-python",
   "name": "python",
   "nbconvert_exporter": "python",
   "pygments_lexer": "ipython3",
   "version": "3.7.9"
  }
 },
 "nbformat": 4,
 "nbformat_minor": 4
}

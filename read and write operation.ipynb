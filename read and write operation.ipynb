{
 "cells": [
  {
   "cell_type": "code",
   "execution_count": 2,
   "id": "military-observation",
   "metadata": {},
   "outputs": [
    {
     "name": "stdout",
     "output_type": "stream",
     "text": [
      "Python is a general purpose language, used by data scientists and developers, which makes it easy to collaborate across your organization through its simple syntax. People choose to use Python so that they can communicate with other people. The other reason is rooted in academic research and statistical models.\n",
      "\n"
     ]
    }
   ],
   "source": [
    "with open('text.txt','r') as f:\n",
    "    print(f.read())"
   ]
  },
  {
   "cell_type": "code",
   "execution_count": 1,
   "id": "alpha-remedy",
   "metadata": {},
   "outputs": [
    {
     "name": "stdout",
     "output_type": "stream",
     "text": [
      "Python is a general purpose language, used by data scientists and developers, which makes it easy to collaborate across your organization through its simple syntax. People choose to use Python so that they can communicate with other people. The other reason is rooted in academic research and statistical models. i am shreyansh tyagi trying to connect this file with my read and only file\n",
      "\n"
     ]
    }
   ],
   "source": [
    "with open('text.txt','r') as f:\n",
    "    print(f.read())"
   ]
  },
  {
   "cell_type": "code",
   "execution_count": 2,
   "id": "dense-color",
   "metadata": {},
   "outputs": [
    {
     "name": "stdout",
     "output_type": "stream",
     "text": [
      "['Python is a general purpose language, used by data scientists and developers, which makes it easy to collaborate across your organization through its simple syntax. People choose to use Python so that they can communicate with other people. The other reason is rooted in academic research and statistical models. i am shreyansh tyagi trying to connect this file with my read and only file\\n']\n"
     ]
    }
   ],
   "source": [
    "with open('text.txt','r') as f:\n",
    "    print(f.readlines())"
   ]
  },
  {
   "cell_type": "code",
   "execution_count": 4,
   "id": "entire-tonight",
   "metadata": {},
   "outputs": [
    {
     "name": "stdout",
     "output_type": "stream",
     "text": [
      "Python is a general purpose language, used by data scientists and developers, which makes it easy to collaborate across your organization through its simple syntax. People choose to use Python so that they can communicate with other people. The other reason is rooted in academic research and statistical models. i am shreyansh tyagi trying to connect this file with my read and only file\n"
     ]
    }
   ],
   "source": [
    "with open('text.txt','r') as f:\n",
    "    for i in f:\n",
    "        print(i,end='')"
   ]
  },
  {
   "cell_type": "code",
   "execution_count": 6,
   "id": "interesting-grace",
   "metadata": {},
   "outputs": [
    {
     "name": "stdout",
     "output_type": "stream",
     "text": [
      "Python is a general purpose language, used by data scientists and developers, which makes it easy to collaborate across your organization through its simple syntax. People choose to use Python so that they can communicate with other people. The other reason is rooted in academic research and statistical models. i am shreyansh tyagi trying to connect this file with my read and only file\n",
      "\n"
     ]
    }
   ],
   "source": [
    "with open('text.txt','r') as f:\n",
    "    for i in f:\n",
    "        print(i)"
   ]
  },
  {
   "cell_type": "code",
   "execution_count": 4,
   "id": "detailed-georgia",
   "metadata": {},
   "outputs": [
    {
     "name": "stdout",
     "output_type": "stream",
     "text": [
      "Python is a general purpose language, used by data scientists and developers, which makes it easy to\n",
      " collaborate across your organization through its simple syntax. People choose to use Python so that\n"
     ]
    }
   ],
   "source": [
    "with open('text.txt','r') as g: #text.txt is the file name of my text file \n",
    "    print(g.read(100))\n",
    "    print(g.read(100))\n",
    "    \n",
    "    "
   ]
  },
  {
   "cell_type": "code",
   "execution_count": 5,
   "id": "graduate-agriculture",
   "metadata": {},
   "outputs": [
    {
     "name": "stdout",
     "output_type": "stream",
     "text": [
      "Our program will provide you with significant career growth by making you an\n",
      "exceptional Data Science professional. The program builds expertise in real-world\n",
      "statistical & mathematical concepts, predictive modeling and machine\n",
      "learning techniques using data and in-depth understanding\n",
      "of the latest Data Science tools.\n",
      "\n",
      "so this myfile of type text and i am trying to link this file from read and write only file \n",
      "\n",
      "\n"
     ]
    }
   ],
   "source": [
    "with open('myfile.txt','r') as hello:\n",
    "    print(hello.read())"
   ]
  },
  {
   "cell_type": "code",
   "execution_count": 10,
   "id": "still-vision",
   "metadata": {},
   "outputs": [
    {
     "name": "stdout",
     "output_type": "stream",
     "text": [
      "Our progra\n",
      "m will pro\n",
      "vide \n",
      "25\n"
     ]
    }
   ],
   "source": [
    "with open('myfile.txt','r') as hello:\n",
    "    print(hello.read(10))\n",
    "    print(hello.read(10))\n",
    "    print(hello.read(5))\n",
    "    print(hello.tell()) #it will tell that we are working on this index right now"
   ]
  },
  {
   "cell_type": "code",
   "execution_count": 19,
   "id": "everyday-brave",
   "metadata": {},
   "outputs": [],
   "source": [
    "with open('myfile2.txt','w') as w:\n",
    "    w.write('hi, trying to write the file and creating new file as this file \\\n",
    "    does not exist so lets see what happen let me add some lines to see whether it get added to my created\\\n",
    "    file also')"
   ]
  },
  {
   "cell_type": "code",
   "execution_count": 18,
   "id": "animal-seven",
   "metadata": {},
   "outputs": [],
   "source": [
    "with open('myfile.txt','r') as read_file:\n",
    "    with open('myfile2.txt','w') as write_file:\n",
    "        write_file.write(read_file.read()) #in write file i have written the text"
   ]
  },
  {
   "cell_type": "code",
   "execution_count": null,
   "id": "criminal-symbol",
   "metadata": {},
   "outputs": [],
   "source": []
  }
 ],
 "metadata": {
  "kernelspec": {
   "display_name": "Python 3",
   "language": "python",
   "name": "python3"
  },
  "language_info": {
   "codemirror_mode": {
    "name": "ipython",
    "version": 3
   },
   "file_extension": ".py",
   "mimetype": "text/x-python",
   "name": "python",
   "nbconvert_exporter": "python",
   "pygments_lexer": "ipython3",
   "version": "3.7.9"
  }
 },
 "nbformat": 4,
 "nbformat_minor": 5
}

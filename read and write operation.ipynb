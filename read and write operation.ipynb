{
 "cells": [
  {
   "cell_type": "code",
   "execution_count": 2,
   "id": "apparent-extreme",
   "metadata": {},
   "outputs": [
    {
     "name": "stdout",
     "output_type": "stream",
     "text": [
      "Python is a general purpose language, used by data scientists and developers, which makes it easy to collaborate across your organization through its simple syntax. People choose to use Python so that they can communicate with other people. The other reason is rooted in academic research and statistical models.\n",
      "\n"
     ]
    }
   ],
   "source": [
    "with open('text.txt','r') as f:\n",
    "    print(f.read())"
   ]
  },
  {
   "cell_type": "code",
   "execution_count": 1,
   "id": "similar-scheduling",
   "metadata": {},
   "outputs": [
    {
     "name": "stdout",
     "output_type": "stream",
     "text": [
      "Python is a general purpose language, used by data scientists and developers, which makes it easy to collaborate across your organization through its simple syntax. People choose to use Python so that they can communicate with other people. The other reason is rooted in academic research and statistical models. i am shreyansh tyagi trying to connect this file with my read and only file\n",
      "\n"
     ]
    }
   ],
   "source": [
    "with open('text.txt','r') as f:\n",
    "    print(f.read())"
   ]
  },
  {
   "cell_type": "code",
   "execution_count": 2,
   "id": "searching-clinton",
   "metadata": {},
   "outputs": [
    {
     "name": "stdout",
     "output_type": "stream",
     "text": [
      "['Python is a general purpose language, used by data scientists and developers, which makes it easy to collaborate across your organization through its simple syntax. People choose to use Python so that they can communicate with other people. The other reason is rooted in academic research and statistical models. i am shreyansh tyagi trying to connect this file with my read and only file\\n']\n"
     ]
    }
   ],
   "source": [
    "with open('text.txt','r') as f:\n",
    "    print(f.readlines())"
   ]
  },
  {
   "cell_type": "code",
   "execution_count": 4,
   "id": "bored-breach",
   "metadata": {},
   "outputs": [
    {
     "name": "stdout",
     "output_type": "stream",
     "text": [
      "Python is a general purpose language, used by data scientists and developers, which makes it easy to collaborate across your organization through its simple syntax. People choose to use Python so that they can communicate with other people. The other reason is rooted in academic research and statistical models. i am shreyansh tyagi trying to connect this file with my read and only file\n"
     ]
    }
   ],
   "source": [
    "with open('text.txt','r') as f:\n",
    "    for i in f:\n",
    "        print(i,end='')"
   ]
  },
  {
   "cell_type": "code",
   "execution_count": 6,
   "id": "periodic-trustee",
   "metadata": {},
   "outputs": [
    {
     "name": "stdout",
     "output_type": "stream",
     "text": [
      "Python is a general purpose language, used by data scientists and developers, which makes it easy to collaborate across your organization through its simple syntax. People choose to use Python so that they can communicate with other people. The other reason is rooted in academic research and statistical models. i am shreyansh tyagi trying to connect this file with my read and only file\n",
      "\n"
     ]
    }
   ],
   "source": [
    "with open('text.txt','r') as f:\n",
    "    for i in f:\n",
    "        print(i)"
   ]
  },
  {
   "cell_type": "code",
   "execution_count": 4,
   "id": "consistent-gazette",
   "metadata": {},
   "outputs": [
    {
     "name": "stdout",
     "output_type": "stream",
     "text": [
      "Python is a general purpose language, used by data scientists and developers, which makes it easy to\n",
      " collaborate across your organization through its simple syntax. People choose to use Python so that\n"
     ]
    }
   ],
   "source": [
    "with open('text.txt','r') as g: #text.txt is the file name of my text file \n",
    "    print(g.read(100))\n",
    "    print(g.read(100))\n",
    "    \n",
    "    "
   ]
  },
  {
   "cell_type": "code",
   "execution_count": 5,
   "id": "increasing-craft",
   "metadata": {},
   "outputs": [
    {
     "name": "stdout",
     "output_type": "stream",
     "text": [
      "Our program will provide you with significant career growth by making you an\n",
      "exceptional Data Science professional. The program builds expertise in real-world\n",
      "statistical & mathematical concepts, predictive modeling and machine\n",
      "learning techniques using data and in-depth understanding\n",
      "of the latest Data Science tools.\n",
      "\n",
      "so this myfile of type text and i am trying to link this file from read and write only file \n",
      "\n",
      "\n"
     ]
    }
   ],
   "source": [
    "with open('myfile.txt','r') as hello:\n",
    "    print(hello.read())"
   ]
  },
  {
   "cell_type": "code",
   "execution_count": 10,
   "id": "single-producer",
   "metadata": {},
   "outputs": [
    {
     "name": "stdout",
     "output_type": "stream",
     "text": [
      "Our progra\n",
      "m will pro\n",
      "vide \n",
      "25\n"
     ]
    }
   ],
   "source": [
    "with open('myfile.txt','r') as hello:\n",
    "    print(hello.read(10))\n",
    "    print(hello.read(10))\n",
    "    print(hello.read(5))\n",
    "    print(hello.tell()) #it will tell that we are working on this index right now"
   ]
  },
  {
   "cell_type": "code",
   "execution_count": 19,
   "id": "impressed-sleeping",
   "metadata": {},
   "outputs": [],
   "source": [
    "with open('myfile2.txt','w') as w:\n",
    "    w.write('hi, trying to write the file and creating new file as this file \\\n",
    "    does not exist so lets see what happen let me add some lines to see whether it get added to my created\\\n",
    "    file also')"
   ]
  },
  {
   "cell_type": "code",
   "execution_count": 18,
   "id": "fossil-discretion",
   "metadata": {},
   "outputs": [],
   "source": [
    "with open('myfile.txt','r') as read_file:\n",
    "    with open('myfile2.txt','w') as write_file:\n",
    "        write_file.write(read_file.read()) #in write file i have written the text"
   ]
  },
  {
   "cell_type": "code",
   "execution_count": 20,
   "id": "driven-manitoba",
   "metadata": {},
   "outputs": [
    {
     "ename": "FileNotFoundError",
     "evalue": "[Errno 2] No such file or directory: 'IMG_1925.JPG'",
     "output_type": "error",
     "traceback": [
      "\u001b[0;31m---------------------------------------------------------------------------\u001b[0m",
      "\u001b[0;31mFileNotFoundError\u001b[0m                         Traceback (most recent call last)",
      "\u001b[0;32m<ipython-input-20-0bbcc93a80cf>\u001b[0m in \u001b[0;36m<module>\u001b[0;34m\u001b[0m\n\u001b[0;32m----> 1\u001b[0;31m \u001b[0;32mwith\u001b[0m \u001b[0mopen\u001b[0m\u001b[0;34m(\u001b[0m\u001b[0;34m'IMG_1925.JPG'\u001b[0m\u001b[0;34m,\u001b[0m\u001b[0;34m'r'\u001b[0m\u001b[0;34m)\u001b[0m \u001b[0;32mas\u001b[0m \u001b[0mr\u001b[0m\u001b[0;34m:\u001b[0m\u001b[0;34m\u001b[0m\u001b[0;34m\u001b[0m\u001b[0m\n\u001b[0m\u001b[1;32m      2\u001b[0m     \u001b[0mprint\u001b[0m\u001b[0;34m(\u001b[0m\u001b[0mr\u001b[0m\u001b[0;34m.\u001b[0m\u001b[0mread\u001b[0m\u001b[0;34m(\u001b[0m\u001b[0;34m)\u001b[0m\u001b[0;34m)\u001b[0m\u001b[0;34m\u001b[0m\u001b[0;34m\u001b[0m\u001b[0m\n",
      "\u001b[0;31mFileNotFoundError\u001b[0m: [Errno 2] No such file or directory: 'IMG_1925.JPG'"
     ]
    }
   ],
   "source": [
    "with open('IMG_1925.JPG','r') as r:\n",
    "    print(r.read())"
   ]
  },
  {
   "cell_type": "code",
   "execution_count": null,
   "id": "noted-meaning",
   "metadata": {},
   "outputs": [],
   "source": []
  }
 ],
 "metadata": {
  "kernelspec": {
   "display_name": "Python 3",
   "language": "python",
   "name": "python3"
  },
  "language_info": {
   "codemirror_mode": {
    "name": "ipython",
    "version": 3
   },
   "file_extension": ".py",
   "mimetype": "text/x-python",
   "name": "python",
   "nbconvert_exporter": "python",
   "pygments_lexer": "ipython3",
   "version": "3.7.9"
  }
 },
 "nbformat": 4,
 "nbformat_minor": 5
}

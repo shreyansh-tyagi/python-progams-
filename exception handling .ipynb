{
 "cells": [
  {
   "cell_type": "code",
   "execution_count": 10,
   "id": "sunrise-lending",
   "metadata": {},
   "outputs": [
    {
     "name": "stdout",
     "output_type": "stream",
     "text": [
      "division by zero\n"
     ]
    }
   ],
   "source": [
    "try:\n",
    "    a=10*(1/0)\n",
    "    print(a)\n",
    "except ZeroDivisionError as e:\n",
    "    print(e)\n",
    "    "
   ]
  },
  {
   "cell_type": "code",
   "execution_count": 11,
   "id": "premium-wallace",
   "metadata": {},
   "outputs": [
    {
     "name": "stdout",
     "output_type": "stream",
     "text": [
      "error message is: can only concatenate str (not \"int\") to str\n"
     ]
    }
   ],
   "source": [
    "try:\n",
    "    a='2'+2\n",
    "    print(a)\n",
    "except Exception as e:\n",
    "    print(f'error message is: {e}')"
   ]
  },
  {
   "cell_type": "code",
   "execution_count": 13,
   "id": "daily-correspondence",
   "metadata": {},
   "outputs": [
    {
     "ename": "IndentationError",
     "evalue": "unexpected indent (<ipython-input-13-e3aac97746b2>, line 2)",
     "output_type": "error",
     "traceback": [
      "\u001b[0;36m  File \u001b[0;32m\"<ipython-input-13-e3aac97746b2>\"\u001b[0;36m, line \u001b[0;32m2\u001b[0m\n\u001b[0;31m    a=input('enter the string: ')\u001b[0m\n\u001b[0m    ^\u001b[0m\n\u001b[0;31mIndentationError\u001b[0m\u001b[0;31m:\u001b[0m unexpected indent\n"
     ]
    }
   ],
   "source": [
    "#try:\n",
    "    a=input('enter the string: ')\n",
    "    print(a)\n",
    "    b=a.split()\n",
    "    print(b)"
   ]
  },
  {
   "cell_type": "code",
   "execution_count": 16,
   "id": "hired-celebrity",
   "metadata": {},
   "outputs": [
    {
     "name": "stdout",
     "output_type": "stream",
     "text": [
      "enter the string: shreyansh tyagi\n",
      "shreyansh tyagi\n",
      "['shreyansh', 'tyagi']\n",
      "['s', 'h', 'r', 'e', 'y', 'a', 'n', 's', 'h', ' ', 't', 'y', 'a', 'g', 'i']\n"
     ]
    }
   ],
   "source": [
    "a=input('enter the string: ')\n",
    "print(a)\n",
    "b=a.split()\n",
    "print(b)\n",
    "c=[]\n",
    "\n",
    "for i in range(len(a)):\n",
    "    c.append(a[i])\n",
    "print(c)    "
   ]
  },
  {
   "cell_type": "code",
   "execution_count": null,
   "id": "sixth-fighter",
   "metadata": {},
   "outputs": [],
   "source": []
  }
 ],
 "metadata": {
  "kernelspec": {
   "display_name": "Python 3",
   "language": "python",
   "name": "python3"
  },
  "language_info": {
   "codemirror_mode": {
    "name": "ipython",
    "version": 3
   },
   "file_extension": ".py",
   "mimetype": "text/x-python",
   "name": "python",
   "nbconvert_exporter": "python",
   "pygments_lexer": "ipython3",
   "version": "3.7.9"
  }
 },
 "nbformat": 4,
 "nbformat_minor": 5
}

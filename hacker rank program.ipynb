{
 "cells": [
  {
   "cell_type": "code",
   "execution_count": 46,
   "metadata": {},
   "outputs": [
    {
     "name": "stdout",
     "output_type": "stream",
     "text": [
      "enter the value: 6\n",
      "36980 36960 36940 36920 36900 36880 \n",
      "36880\n"
     ]
    }
   ],
   "source": [
    "n=int(input('enter the value: '))\n",
    "#print(n)\n",
    "b=37000\n",
    "a=[]\n",
    "for i in range(1,31):\n",
    "    b-=20\n",
    "    a.append(b)\n",
    "    #print(i)\n",
    "    #print(b,end=' ')\n",
    "#print(a)  \n",
    "for i in range(0,n):\n",
    "    print(a[i],end=' ')\n",
    "print()    \n",
    "print(a[n-1])    \n",
    "   "
   ]
  },
  {
   "cell_type": "code",
   "execution_count": 42,
   "metadata": {},
   "outputs": [
    {
     "name": "stdout",
     "output_type": "stream",
     "text": [
      "enter the number of days:3\n",
      "330\n",
      "375\n",
      "300\n"
     ]
    }
   ],
   "source": [
    "n=int(input('enter the number of days:'))\n",
    "a=100\n",
    "if n==1:\n",
    "    print(a)\n",
    "elif n>1:\n",
    "    for i in range(1,n):\n",
    "        a=(a*n)\n",
    "        e=1\n",
    "       # print(a)\n",
    "        for j in range(1,n):\n",
    "            a=a+(e*10)\n",
    "            e+=1\n",
    "        print(a)\n",
    "        break\n",
    "b=120\n",
    "if n==1:\n",
    "    print(b)\n",
    "elif n>1:\n",
    "    for i in range(1,n):\n",
    "        b=(b*n)\n",
    "        e=1\n",
    "      #  print(b)\n",
    "        for j in range(1,n):\n",
    "            b=b+(e*5)\n",
    "            e+=1\n",
    "        print(b)\n",
    "        break\n",
    "c=80\n",
    "if(n==1):\n",
    "    print(c)\n",
    "elif n>1:\n",
    "    for i in range(1,n):\n",
    "        c=c*n\n",
    "        e=1\n",
    "        for j in range(1,n):\n",
    "            c=c+(e*20)\n",
    "            e+=1\n",
    "        print(c)\n",
    "        break"
   ]
  },
  {
   "cell_type": "code",
   "execution_count": null,
   "metadata": {},
   "outputs": [],
   "source": []
  },
  {
   "cell_type": "code",
   "execution_count": null,
   "metadata": {},
   "outputs": [],
   "source": []
  }
 ],
 "metadata": {
  "kernelspec": {
   "display_name": "Python 3",
   "language": "python",
   "name": "python3"
  },
  "language_info": {
   "codemirror_mode": {
    "name": "ipython",
    "version": 3
   },
   "file_extension": ".py",
   "mimetype": "text/x-python",
   "name": "python",
   "nbconvert_exporter": "python",
   "pygments_lexer": "ipython3",
   "version": "3.7.9"
  }
 },
 "nbformat": 4,
 "nbformat_minor": 4
}

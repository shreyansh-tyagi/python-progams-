{
 "cells": [
  {
   "cell_type": "code",
   "execution_count": 44,
   "metadata": {},
   "outputs": [
    {
     "name": "stdout",
     "output_type": "stream",
     "text": [
      "enter the value: 4\n",
      "36980 36960 36940 36920 \n",
      "36920\n"
     ]
    }
   ],
   "source": [
    "'''Madhukar is spending money from his collection each day he spend 20 rupees on fast food. after n no of days how much total money has he in his collection?Initially he has 37000 rs.\n",
    "\n",
    "Input Format\n",
    "\n",
    "one integer input which will denote total number of days\n",
    "\n",
    "Constraints\n",
    "\n",
    "Constraint maximum this fast food eating will done for 30 days\n",
    "\n",
    "Output Format\n",
    "\n",
    "output will have two lines, first line will display list of his money remaining on daily basis. second line will display total sum of money in his collection.\n",
    "\n",
    "Sample Input 0\n",
    "\n",
    "4\n",
    "Sample Output 0\n",
    "\n",
    "36980 36960 36940 36920\n",
    "36920\n",
    "Explanation 0\n",
    "\n",
    "first line is the initial input. first line of output is collection after spending money day by day. second line of output is remaining collection.*/\n",
    "\n",
    "'''\n",
    "\n",
    "\n",
    "n=int(input('enter the value: '))\n",
    "#print(n)\n",
    "b=37000\n",
    "a=[]\n",
    "for i in range(1,31):\n",
    "    b-=20\n",
    "    a.append(b)\n",
    "    #print(i)\n",
    "    #print(b,end=' ')\n",
    "#print(a)  \n",
    "for i in range(0,n):\n",
    "    print(a[i],end=' ')\n",
    "print()    \n",
    "print(a[n-1])    \n",
    "   "
   ]
  },
  {
   "cell_type": "code",
   "execution_count": 51,
   "metadata": {},
   "outputs": [
    {
     "name": "stdout",
     "output_type": "stream",
     "text": [
      "enter the number of days:3\n",
      "330\n",
      "375\n",
      "300\n"
     ]
    }
   ],
   "source": [
    "'''Adveta walks 100 steps first day and she walks 10 more steps then the previous day for the next each day. While Rahul walks 120 steps first day and He walks 5 more steps then the previous day for the next each day. And Jaanki walks 80 steps first day and she walks 20 more steps then the previous day for the next each day. If their trainer assigned same number of days to walk. Then calculate total number of steps they walked in the given days.\n",
    "\n",
    "Input Format\n",
    "\n",
    "An integer input to show number of days.\n",
    "\n",
    "Constraints\n",
    "\n",
    "1<= Days <=10\n",
    "\n",
    "Output Format\n",
    "\n",
    "Three lines of output\n",
    "\n",
    "First line shows total number of steps walked by Adveta.\n",
    "\n",
    "Second line shows total number of steps walked by Rahul.\n",
    "\n",
    "Thirs line shows total number of steps walked by Jaanki.\n",
    "\n",
    "Sample Input 0\n",
    "\n",
    "2\n",
    "Sample Output 0\n",
    "210\n",
    "245\n",
    "180\n",
    "\n",
    "'''\n",
    "'hello'\n",
    "\n",
    "n=int(input('enter the number of days:'))\n",
    "a=100\n",
    "if n==1:\n",
    "    print(a)\n",
    "elif n>1:\n",
    "    for i in range(1,n):\n",
    "        a=(a*n)\n",
    "        e=1\n",
    "       # print(a)\n",
    "        for j in range(1,n):\n",
    "            a=a+(e*10)\n",
    "            e+=1\n",
    "        print(a)\n",
    "        break\n",
    "b=120\n",
    "if n==1:\n",
    "    print(b)\n",
    "elif n>1:\n",
    "    for i in range(1,n):\n",
    "        b=(b*n)\n",
    "        e=1\n",
    "      #  print(b)\n",
    "        for j in range(1,n):\n",
    "            b=b+(e*5)\n",
    "            e+=1\n",
    "        print(b)\n",
    "        break\n",
    "c=80\n",
    "if(n==1):\n",
    "    print(c)\n",
    "elif n>1:\n",
    "    for i in range(1,n):\n",
    "        c=c*n\n",
    "        e=1\n",
    "        for j in range(1,n):\n",
    "            c=c+(e*20)\n",
    "            e+=1\n",
    "        print(c)\n",
    "        break       "
   ]
  },
  {
   "cell_type": "code",
   "execution_count": 76,
   "metadata": {},
   "outputs": [
    {
     "name": "stdout",
     "output_type": "stream",
     "text": [
      "how many element you want to store into the list: 5\n",
      "enter the value into list: 45\n",
      "enter the value into list: 12\n",
      "enter the value into list: 43\n",
      "enter the value into list: 23\n",
      "enter the value into list: 22\n",
      "list is :  [45, 12, 43, 23, 22]\n",
      "the type is: <class 'list'>\n",
      "the length is:  5\n",
      "list in ascending order : [12, 22, 23, 43, 45]\n",
      "list in desending order:  [45, 43, 23, 22, 12]\n"
     ]
    }
   ],
   "source": [
    "# arranging list into ascending and desending order\n",
    "a=[]\n",
    "n=int(input('how many element you want to store into the list: '))\n",
    "for i in range(n):\n",
    "    b=int(input('enter the value into list: '))\n",
    "    a.append(b) #adding element into the list\n",
    "print('list is : ',a)    \n",
    "print('the type is:',type(a))  \n",
    "print('the length is: ',len(a))\n",
    "print('list in ascending order :',sorted(a))\n",
    "print('list in desending order: ',sorted(a,reverse=True))\n"
   ]
  },
  {
   "cell_type": "code",
   "execution_count": 28,
   "metadata": {},
   "outputs": [
    {
     "name": "stdout",
     "output_type": "stream",
     "text": [
      "enter how many element you want into the list: 5\n",
      "enter the value into the list: 1\n",
      "enter the value into the list: 2\n",
      "enter the value into the list: 66\n",
      "enter the value into the list: 34\n",
      "enter the value into the list: 78\n",
      "list is : [1, 2, 66, 34, 78]\n",
      "descending: [78, 66, 34, 2, 1]\n",
      "asecending:  [1, 2, 34, 66, 78]\n",
      "smallest element from list is:  1\n",
      "largest element from list is:  78\n",
      "smallest element is: 1 \n",
      "laregst is : 78\n"
     ]
    }
   ],
   "source": [
    "#finding smallest and largest element from the list\n",
    "a=[]\n",
    "n=int(input('enter how many element you want into the list: '))\n",
    "for i in range(n):\n",
    "    b=int(input('enter the value into the list: '))\n",
    "    a.append(b) #adding element into list\n",
    "    c=sorted(a,reverse=True)\n",
    "print('list is :',a)    \n",
    "print('descending:',c)\n",
    "print('asecending: ',sorted(c,reverse=False))\n",
    "print('smallest element from list is: ',c[-1])\n",
    "print('largest element from list is: ',c[0])\n",
    "print('smallest element is:',c[-1], '\\nlaregst is :',c[0]) #to print in different line using single print statement\n",
    "#print('laregst %s and greatest %s',%(c[-1],c[0]))"
   ]
  },
  {
   "cell_type": "code",
   "execution_count": 58,
   "metadata": {},
   "outputs": [
    {
     "name": "stdout",
     "output_type": "stream",
     "text": [
      "enter the string: AS\n",
      "aF\n",
      "F\n",
      "sG\n",
      "G\n"
     ]
    }
   ],
   "source": [
    "a=input('enter the string: ')\n",
    "#print(ord(a[0]))\n",
    "#print(a[1])\n",
    "c=len(a)\n",
    "#print(c)\n",
    "#print(ord(a)) #ord function is used to print the ASCII value \n",
    "for i in range(c):\n",
    "    if(ord(a[i])<97):\n",
    "        b=input(a[i].lower())\n",
    "        print(b)\n",
    "    "
   ]
  },
  {
   "cell_type": "code",
   "execution_count": null,
   "metadata": {},
   "outputs": [],
   "source": []
  },
  {
   "cell_type": "code",
   "execution_count": null,
   "metadata": {},
   "outputs": [],
   "source": []
  }
 ],
 "metadata": {
  "kernelspec": {
   "display_name": "Python 3",
   "language": "python",
   "name": "python3"
  },
  "language_info": {
   "codemirror_mode": {
    "name": "ipython",
    "version": 3
   },
   "file_extension": ".py",
   "mimetype": "text/x-python",
   "name": "python",
   "nbconvert_exporter": "python",
   "pygments_lexer": "ipython3",
   "version": "3.7.9"
  }
 },
 "nbformat": 4,
 "nbformat_minor": 4
}

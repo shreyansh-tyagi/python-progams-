{
 "cells": [
  {
   "cell_type": "code",
   "execution_count": 5,
   "metadata": {},
   "outputs": [
    {
     "name": "stdout",
     "output_type": "stream",
     "text": [
      "enter the value: 3\n",
      "3\n",
      "36980 36960 36940 36920 36900 36880 36860 36840 36820 36800 36780 36760 36740 36720 36700 36680 36660 36640 36620 36600 36580 36560 36540 36520 36500 36480 36460 36440 36420 "
     ]
    }
   ],
   "source": [
    "n=int(input('enter the value: '))\n",
    "print(n)\n",
    "b=37000\n",
    "for i in range(1,30):\n",
    "    b-=20\n",
    "    print(b,end=' ')"
   ]
  },
  {
   "cell_type": "code",
   "execution_count": null,
   "metadata": {},
   "outputs": [],
   "source": []
  }
 ],
 "metadata": {
  "kernelspec": {
   "display_name": "Python 3",
   "language": "python",
   "name": "python3"
  },
  "language_info": {
   "codemirror_mode": {
    "name": "ipython",
    "version": 3
   },
   "file_extension": ".py",
   "mimetype": "text/x-python",
   "name": "python",
   "nbconvert_exporter": "python",
   "pygments_lexer": "ipython3",
   "version": "3.7.9"
  }
 },
 "nbformat": 4,
 "nbformat_minor": 4
}

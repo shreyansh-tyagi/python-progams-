{
 "cells": [
  {
   "cell_type": "markdown",
   "metadata": {},
   "source": [
    "# if-else"
   ]
  },
  {
   "cell_type": "code",
   "execution_count": 10,
   "metadata": {},
   "outputs": [
    {
     "name": "stdout",
     "output_type": "stream",
     "text": [
      "enter the value of a 1\n",
      "enter the value of b 2\n",
      "enter the value of c 3\n",
      "c is greater and value is: 3\n"
     ]
    }
   ],
   "source": [
    "#largest among threee number\n",
    "a=int(input('enter the value of a '))\n",
    "b=int(input('enter the value of b '))\n",
    "c=int(input('enter the value of c ' ))\n",
    "if((a>b)and(a>c)):  # (and) operator is used\n",
    "    print('a is greater and value is: ' +str(a))\n",
    "elif((b>a)and(b>c)):\n",
    "    print('b is greater and value is: ' +str(b))\n",
    "else:  #in else statement it not possible to give condition\n",
    "    print('c is greater and value is: ' +str(c))"
   ]
  },
  {
   "cell_type": "code",
   "execution_count": 3,
   "metadata": {},
   "outputs": [
    {
     "name": "stdout",
     "output_type": "stream",
     "text": [
      "enter the gender of the employee: male\n",
      "enter the year of service: 2\n",
      "enter the qualification i.e. 0=\"graduate\" and 1=\"postgraduate\": 1\n",
      "salary of employee: 10000\n"
     ]
    }
   ],
   "source": [
    "#calculate the salary according to year of service and graduation differentiate with gender\n",
    "g=input('enter the gender of the employee: ') # g=gender\n",
    "y=int(input('enter the year of service: '))   # y=year\n",
    "q=int(input('enter the qualification i.e. 0=\"graduate\" and 1=\"postgraduate\": ')) #q=qualification\n",
    "if(g=='male'and y>=10 and q==1):\n",
    "    s=15000 # s=salary\n",
    "elif(g=='male'and y>=10 and q==0)or(g=='male' and y<10 and q==1):\n",
    "    s=10000\n",
    "elif(g=='male' and y<10 and q==0):\n",
    "    s=7000\n",
    "elif(g=='female' and y>=10 and q==1):\n",
    "    s=12000\n",
    "elif(g=='female' and y>=10 and q==0)or(g=='female' and y<10 and q==1):\n",
    "    s=11000\n",
    "elif(g=='female' and y<10 and q==0):\n",
    "    s=6000\n",
    "print('salary of employee: ' +str(s))    "
   ]
  },
  {
   "cell_type": "markdown",
   "metadata": {},
   "source": [
    "# nested-if"
   ]
  },
  {
   "cell_type": "code",
   "execution_count": 9,
   "metadata": {},
   "outputs": [
    {
     "name": "stdout",
     "output_type": "stream",
     "text": [
      "enter the value of a: 3\n",
      "enter the value of b: 2\n",
      "enter the vlaue of c: 1\n",
      "we are in else\n"
     ]
    }
   ],
   "source": [
    "a=int(input('enter the value of a: '))\n",
    "b=int(input('enter the value of b: '))\n",
    "c=int(input('enter the vlaue of c: '))\n",
    "if(a<b):\n",
    "    if(b<c):\n",
    "        print('we are in nested if ')\n",
    "    print('we are in if ')\n",
    "else:\n",
    "    print('we are in else')\n",
    "    \n",
    "    \n",
    "    "
   ]
  },
  {
   "cell_type": "markdown",
   "metadata": {},
   "source": [
    "# while"
   ]
  },
  {
   "cell_type": "code",
   "execution_count": 1,
   "metadata": {},
   "outputs": [
    {
     "ename": "IndentationError",
     "evalue": "unexpected indent (<ipython-input-1-4083f0042e7d>, line 3)",
     "output_type": "error",
     "traceback": [
      "\u001b[0;36m  File \u001b[0;32m\"<ipython-input-1-4083f0042e7d>\"\u001b[0;36m, line \u001b[0;32m3\u001b[0m\n\u001b[0;31m    print('hello world')\u001b[0m\n\u001b[0m    ^\u001b[0m\n\u001b[0;31mIndentationError\u001b[0m\u001b[0;31m:\u001b[0m unexpected indent\n"
     ]
    }
   ],
   "source": [
    "a=int(input('enter the value : '))\n",
    "#while(a==0): #while(a!=0)=infinite loop #while(a==0)=infinte loop\n",
    "    print('hello world')\n",
    "a+=1   \n"
   ]
  },
  {
   "cell_type": "code",
   "execution_count": null,
   "metadata": {},
   "outputs": [],
   "source": [
    "a=1 #if the user enter the value at output screen then input funtion is used which will these value as string\n",
    "b=2\n",
    "c=a+b\n",
    "print(c)"
   ]
  },
  {
   "cell_type": "code",
   "execution_count": 1,
   "metadata": {},
   "outputs": [
    {
     "name": "stdout",
     "output_type": "stream",
     "text": [
      "enter the value of a: 2\n",
      "hello world\n",
      "hello world\n",
      "hello world\n",
      "hello world\n"
     ]
    }
   ],
   "source": [
    "a=int(input('enter the value of a: '))\n",
    "while(a<=5):\n",
    "    print('hello world')\n",
    "    a+=1  # if this statement is not used then it will become infinte loop because 1 is always less than 5\n",
    "# a+=1 if this statement is defined here then also infinite loop because \n",
    "#control will not come out until codition is false    "
   ]
  },
  {
   "cell_type": "code",
   "execution_count": 1,
   "metadata": {},
   "outputs": [
    {
     "name": "stdout",
     "output_type": "stream",
     "text": [
      "enter the value to check for prime number: 31\n",
      "31 is prime number \n"
     ]
    }
   ],
   "source": [
    "#prime number using while ,if and break \n",
    "a=int(input('enter the value to check for prime number: '))\n",
    "i=2\n",
    "while(i<=a-1):\n",
    "    if(a%i==0):\n",
    "        print('not prime number ' +str(a))\n",
    "        break\n",
    "    i+=1        \n",
    "    if(i==a):\n",
    "        print( str(a)+' is prime number ') # if we want the value to print (7 is prime number) then concatenate\n",
    "        #and use + sign after the value like this \"a+ is prime number\" along with string function\n",
    "        #if we want the value to print (prime number is 7) then concatenate and use + sign before value like \n",
    "        #this is \"prime number is +a\" along with sting function \n",
    "        #(prime number is +str(a)) gives (prime number is 7)\n",
    "        # (str(a)+ is prime number) gives (7 is prime number)"
   ]
  },
  {
   "cell_type": "markdown",
   "metadata": {},
   "source": [
    "# for loop"
   ]
  },
  {
   "cell_type": "code",
   "execution_count": 18,
   "metadata": {},
   "outputs": [
    {
     "name": "stdout",
     "output_type": "stream",
     "text": [
      "hello abcd0\n",
      "hello 4\n",
      "0 heeloo worrlld\n",
      "hello abcd1\n",
      "hello 4\n",
      "1 heeloo worrlld\n",
      "hello abcd2\n",
      "hello 4\n",
      "2 heeloo worrlld\n",
      "hello abcd3\n",
      "hello 4\n",
      "3 heeloo worrlld\n",
      "hello abcd4\n",
      "hello 4\n",
      "4 heeloo worrlld\n"
     ]
    }
   ],
   "source": [
    "for x in range(5):\n",
    "    print(\"hello abcd\"+str(x))\n",
    "    print(f'hello {i}')\n",
    "    print(str(x)+' heeloo worrlld')"
   ]
  },
  {
   "cell_type": "code",
   "execution_count": 4,
   "metadata": {},
   "outputs": [
    {
     "name": "stdout",
     "output_type": "stream",
     "text": [
      "enter the value for sum: 3\n",
      "7\n"
     ]
    }
   ],
   "source": [
    "sum=int(input('enter the value for sum: '))\n",
    "for a in range(2,6): \n",
    "    sum=sum+1\n",
    "print(sum)    \n",
    "    "
   ]
  },
  {
   "cell_type": "code",
   "execution_count": 5,
   "metadata": {},
   "outputs": [
    {
     "name": "stdout",
     "output_type": "stream",
     "text": [
      "2\n",
      "2\n",
      "2\n"
     ]
    }
   ],
   "source": [
    "a=1\n",
    "b=1\n",
    "for y in range(3,8,2):#start from 3 to 7 coz 0to 7 take 8 element and space is 2\n",
    "    c=a+b\n",
    "    print(c)\n"
   ]
  },
  {
   "cell_type": "code",
   "execution_count": 34,
   "metadata": {},
   "outputs": [
    {
     "name": "stdout",
     "output_type": "stream",
     "text": [
      "entre the value: 4\n",
      "hello\n",
      "hello\n",
      "hello\n",
      "hello\n"
     ]
    }
   ],
   "source": [
    "a=int(input('entre the value: '))\n",
    "for x in range(a):\n",
    "    print('hello') #print function by default ends with new line in order to stop that we can use end \n",
    "    #function which tell print function not end with new line but with this particular character."
   ]
  },
  {
   "cell_type": "code",
   "execution_count": 33,
   "metadata": {},
   "outputs": [
    {
     "name": "stdout",
     "output_type": "stream",
     "text": [
      "enter the value: 3\n",
      "hello @hello @hello @"
     ]
    }
   ],
   "source": [
    "a=int(input('enter the value: '))\n",
    "for b in range(a):\n",
    "    print('hello',end=' @')"
   ]
  },
  {
   "cell_type": "code",
   "execution_count": 51,
   "metadata": {
    "scrolled": false
   },
   "outputs": [
    {
     "name": "stdout",
     "output_type": "stream",
     "text": [
      "enter the value: 6\n",
      "\n",
      "* \n",
      "* * \n",
      "* * * \n",
      "* * * * \n",
      "* * * * * \n"
     ]
    }
   ],
   "source": [
    "a=int(input('enter the value: '))\n",
    "for i in range(a):\n",
    "    for j in range(i):\n",
    "        print('*',end=' ')\n",
    "    print('')   #no need to use '\\n' for new line coz print by default moves to new line      "
   ]
  },
  {
   "cell_type": "code",
   "execution_count": 49,
   "metadata": {},
   "outputs": [
    {
     "name": "stdout",
     "output_type": "stream",
     "text": [
      "enter the value: 5\n",
      "* * * * *  \n",
      "* * * *  \n",
      "* * *  \n",
      "* *  \n",
      "*  \n"
     ]
    }
   ],
   "source": [
    "a=int(input('enter the value: '))\n",
    "for i in range(a,0,-1):\n",
    "    for j in range(0,i): #for j in range(i,0,-1) it means start from 5 end till 0 with -1 decrease\n",
    "        print('*',end=' ')\n",
    "    print(' ')   "
   ]
  },
  {
   "cell_type": "code",
   "execution_count": 52,
   "metadata": {},
   "outputs": [
    {
     "name": "stdout",
     "output_type": "stream",
     "text": [
      "enter the value: 5\n",
      "\n",
      "* \n",
      "* * \n",
      "* * * \n",
      "* * * * \n"
     ]
    }
   ],
   "source": [
    "a=int(input('enter the value: '))\n",
    "for x in range(a): #range(a) is range(5) which means 0-5 start from 0 end with 5 therefore x is 0 for first \n",
    "    #iteration\n",
    "    for y in range(x,0,-1):\n",
    "        print('*',end=' ')\n",
    "    print('')    "
   ]
  },
  {
   "cell_type": "code",
   "execution_count": 54,
   "metadata": {},
   "outputs": [
    {
     "name": "stdout",
     "output_type": "stream",
     "text": [
      "enter the value: 5\n",
      "1 1 1 1 1 \n",
      "0 0 0 0 \n",
      "1 1 1 \n",
      "0 0 \n",
      "1 \n"
     ]
    }
   ],
   "source": [
    "a=int(input('enter the value: '))\n",
    "for x in range(a,0,-1): \n",
    "    for y in range(0,x):\n",
    "        if(x%2==0):\n",
    "            print('0',end=' ')\n",
    "        else:\n",
    "            print('1',end=' ')\n",
    "    print('')    "
   ]
  },
  {
   "cell_type": "code",
   "execution_count": 56,
   "metadata": {},
   "outputs": [
    {
     "name": "stdout",
     "output_type": "stream",
     "text": [
      "enter the value: 6\n",
      "0 1 0 1 0 1 \n",
      "0 1 0 1 0 \n",
      "0 1 0 1 \n",
      "0 1 0 \n",
      "0 1 \n",
      "0 \n"
     ]
    }
   ],
   "source": [
    "a=int(input('enter the value: '))\n",
    "for x in range(a,0,-1): \n",
    "    for y in range(0,x):\n",
    "        if(y%2==0):\n",
    "            print('0',end=' ')\n",
    "        else:\n",
    "            print('1',end=' ')\n",
    "    print('')    "
   ]
  },
  {
   "cell_type": "code",
   "execution_count": null,
   "metadata": {},
   "outputs": [],
   "source": []
  }
 ],
 "metadata": {
  "kernelspec": {
   "display_name": "Python 3",
   "language": "python",
   "name": "python3"
  },
  "language_info": {
   "codemirror_mode": {
    "name": "ipython",
    "version": 3
   },
   "file_extension": ".py",
   "mimetype": "text/x-python",
   "name": "python",
   "nbconvert_exporter": "python",
   "pygments_lexer": "ipython3",
   "version": "3.7.9"
  }
 },
 "nbformat": 4,
 "nbformat_minor": 4
}

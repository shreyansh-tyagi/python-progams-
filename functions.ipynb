{
 "cells": [
  {
   "cell_type": "markdown",
   "metadata": {},
   "source": [
    "# function"
   ]
  },
  {
   "cell_type": "code",
   "execution_count": 14,
   "metadata": {},
   "outputs": [
    {
     "name": "stdout",
     "output_type": "stream",
     "text": [
      "value of b:  10\n",
      "id of a:  94188532118560\n",
      "id of b:  94188532121440\n",
      "new value of b:  100\n"
     ]
    }
   ],
   "source": [
    "#pass by value\n",
    "a=10\n",
    "def fun_name(b):\n",
    "    print('value of b: ',b)\n",
    "    print('id of a: ',id(b))\n",
    "    b=100\n",
    "    print('id of b: ',id(b))\n",
    "    print('new value of b: ',b)\n",
    "fun_name(a)    "
   ]
  },
  {
   "cell_type": "code",
   "execution_count": 16,
   "metadata": {},
   "outputs": [
    {
     "name": "stdout",
     "output_type": "stream",
     "text": [
      "id of a:  140186127288352\n",
      "fisrt list:  [10, 20, 30]\n",
      "id of a:  {140186127288352}\n",
      "id of b:  {140186127288352}\n",
      "second list:  [99, 21, 30]\n"
     ]
    }
   ],
   "source": [
    "#pass by reference\n",
    "a=[10,20,30]\n",
    "print('id of a: ',id(a))\n",
    "def fun_name(b):\n",
    "    print('fisrt list: ',b)\n",
    "    print('id of a: ',{id(b)})\n",
    "    b[0]=99\n",
    "    b[1]=21\n",
    "    print('id of b: ',{id(b)})\n",
    "    print('second list: ',b)\n",
    "fun_name(a)    "
   ]
  },
  {
   "cell_type": "code",
   "execution_count": 9,
   "metadata": {},
   "outputs": [
    {
     "name": "stdout",
     "output_type": "stream",
     "text": [
      "x: 20\n",
      "y: 10\n"
     ]
    }
   ],
   "source": [
    "def fun1(x,y):\n",
    "    print('x:',x)\n",
    "    print('y:',y)\n",
    "fun1(20,10)    "
   ]
  },
  {
   "cell_type": "code",
   "execution_count": 11,
   "metadata": {},
   "outputs": [
    {
     "name": "stdout",
     "output_type": "stream",
     "text": [
      "geeksforgeeks practice\n",
      "geeksforgeeks practice\n"
     ]
    }
   ],
   "source": [
    "#keyword argument\n",
    "def student(firstname,lastname):\n",
    "    print(firstname,lastname)\n",
    "student(firstname='geeksforgeeks',lastname='practice')\n",
    "student(lastname='practice',firstname='geeksforgeeks')"
   ]
  },
  {
   "cell_type": "code",
   "execution_count": 16,
   "metadata": {},
   "outputs": [
    {
     "name": "stdout",
     "output_type": "stream",
     "text": [
      "1\n",
      "2\n",
      "3\n",
      "hello\n",
      "world\n",
      "4\n",
      "5\n",
      "8\n"
     ]
    }
   ],
   "source": [
    "def fun1 (normal):\n",
    "    for i in normal:\n",
    "        print(i)\n",
    "lst=[1,2,3,'hello','world',4,5,8]\n",
    "fun1(lst)    "
   ]
  },
  {
   "cell_type": "code",
   "execution_count": 30,
   "metadata": {},
   "outputs": [
    {
     "name": "stdout",
     "output_type": "stream",
     "text": [
      "<class 'list'>\n",
      "31\n",
      "41\n",
      "3\n",
      "hello\n",
      "value\n",
      "4\n",
      "5\n",
      "<class 'list'>\n"
     ]
    }
   ],
   "source": [
    "lst=[1,2,3,'hello','value',4,5]\n",
    "print(type(lst))\n",
    "fun1(lst)\n",
    "print(type(lst))\n",
    "def fun1 (normal):\n",
    "    normal[0]=31\n",
    "    normal[1]=41\n",
    "    for i in normal:\n",
    "        print(i)\n",
    "        "
   ]
  },
  {
   "cell_type": "code",
   "execution_count": 26,
   "metadata": {},
   "outputs": [
    {
     "name": "stdout",
     "output_type": "stream",
     "text": [
      "hello world s t\n"
     ]
    }
   ],
   "source": [
    "#normal function\n",
    "def abc(a,b,c,d):\n",
    "    print(a,b,c,d)\n",
    "abc('hello','world','s','t')    "
   ]
  },
  {
   "cell_type": "code",
   "execution_count": 24,
   "metadata": {},
   "outputs": [
    {
     "name": "stdout",
     "output_type": "stream",
     "text": [
      "1 2 4 3\n"
     ]
    }
   ],
   "source": [
    "def abc(a,b,c,d):\n",
    "    print(a,b,c,d)\n",
    "s=1\n",
    "x=2\n",
    "y=4\n",
    "z=3\n",
    "abc(s,x,y,z)"
   ]
  },
  {
   "cell_type": "code",
   "execution_count": 18,
   "metadata": {},
   "outputs": [
    {
     "name": "stdout",
     "output_type": "stream",
     "text": [
      "('hello', 'wrld', 's', 't', 'w')\n",
      "<class 'tuple'>\n",
      "<class 'function'>\n"
     ]
    }
   ],
   "source": [
    "#*args(non-keyword argument)\n",
    "def abc(*shrey):\n",
    "    print(shrey)\n",
    "    print(type(shrey))\n",
    "abc('hello','wrld','s','t','w')\n",
    "print(type(abc))"
   ]
  },
  {
   "cell_type": "code",
   "execution_count": 29,
   "metadata": {},
   "outputs": [
    {
     "name": "stdout",
     "output_type": "stream",
     "text": [
      "<class 'list'>\n",
      "(1, 2, 3, 'shreyansh', 's', 't', 1, 2)\n",
      "<class 'tuple'>\n"
     ]
    }
   ],
   "source": [
    "def abc(*shrey):\n",
    "    print(shrey)\n",
    "    print(type(shrey))\n",
    "s=[1,2,3,'shreyansh','s','t',1,2]\n",
    "print(type(s))\n",
    "abc(*s)"
   ]
  },
  {
   "cell_type": "code",
   "execution_count": 44,
   "metadata": {},
   "outputs": [
    {
     "name": "stdout",
     "output_type": "stream",
     "text": [
      "1\n",
      "2\n",
      "3\n",
      "d\n",
      "sd\n",
      "3.04\n",
      "56\n",
      "shrey\n",
      "22\n"
     ]
    }
   ],
   "source": [
    "# *args(non keyword argument) is always in tuple form, hence tuple are immutable in nature therefore it is\n",
    "#impossible to insert the value inside tuple\n",
    "def abc(*abc):\n",
    "    #abc[0]='hello' \n",
    "    #abc[1]='function' it is tuple therefore no assignment can be done\n",
    "    for i in abc:\n",
    "        print(i)\n",
    "a=(1,2,3,'d','sd',3.04,56,'shrey',22)\n",
    "abc(*a)"
   ]
  },
  {
   "cell_type": "code",
   "execution_count": 35,
   "metadata": {},
   "outputs": [
    {
     "name": "stdout",
     "output_type": "stream",
     "text": [
      "<class 'tuple'>\n",
      "('a', 'c', 1, 3)\n"
     ]
    }
   ],
   "source": [
    "a=('a','c',1,3)\n",
    "#a[0]=21\n",
    "print(type(a))\n",
    "print(a)"
   ]
  },
  {
   "cell_type": "code",
   "execution_count": 56,
   "metadata": {},
   "outputs": [
    {
     "name": "stdout",
     "output_type": "stream",
     "text": [
      "this is normal statement\n",
      "\n",
      "\n",
      "this is args:\n",
      "<class 'tuple'>\n",
      "1\n",
      "<class 'int'>\n",
      "2\n",
      "<class 'int'>\n",
      "3\n",
      "<class 'int'>\n",
      "shrey\n",
      "<class 'str'>\n",
      "s\n",
      "<class 'str'>\n",
      "30.04\n",
      "<class 'float'>\n",
      "\n",
      "<class 'function'>\n"
     ]
    }
   ],
   "source": [
    "#normal and * args argument\n",
    "def abc(normal,*argsy):\n",
    "    print(normal)\n",
    "    print('\\n\\nthis is args:' )\n",
    "    print(type(argsy))\n",
    "    for i in argsy:\n",
    "        print(i)\n",
    "        print(type(i))\n",
    "normal='this is normal statement'\n",
    "x=(1,2,3,'shrey','s',30.04)\n",
    "abc(normal,*x)\n",
    "print()\n",
    "print(type(abc))"
   ]
  },
  {
   "cell_type": "code",
   "execution_count": 61,
   "metadata": {},
   "outputs": [
    {
     "name": "stdout",
     "output_type": "stream",
     "text": [
      "{'name': 'shreyansh', 'class': 'mca', 'age': 22}\n"
     ]
    }
   ],
   "source": [
    "# **kwargs(keyword argument)\n",
    "def abc (**shrey):\n",
    "    print(shrey)\n",
    "x={'name':'shreyansh','class':'mca','age':22}    \n",
    "abc(**x)    \n"
   ]
  },
  {
   "cell_type": "code",
   "execution_count": 6,
   "metadata": {},
   "outputs": [
    {
     "name": "stdout",
     "output_type": "stream",
     "text": [
      "name is shreyansh\n",
      "class is mca\n",
      "age is 22\n"
     ]
    }
   ],
   "source": [
    "def abc (**shrey):\n",
    "    for key,value in shrey.items():\n",
    "        print(f'{key} is {value}')\n",
    "       # print(key,value)\n",
    "    \n",
    "x={'name':'shreyansh','class':'mca','age':22}    \n",
    "abc(**x)    \n"
   ]
  },
  {
   "cell_type": "code",
   "execution_count": 10,
   "metadata": {},
   "outputs": [
    {
     "data": {
      "text/plain": [
       "<generator object bc at 0x7f3e80624050>"
      ]
     },
     "execution_count": 10,
     "metadata": {},
     "output_type": "execute_result"
    }
   ],
   "source": [
    "# yield keyword that is used in generator concept \n",
    "def bc():\n",
    "    yield 1\n",
    "    yield 2\n",
    "    yield 3\n",
    "    print(bc)\n",
    "    print(__next(bc))\n",
    "bc()    "
   ]
  },
  {
   "cell_type": "code",
   "execution_count": 16,
   "metadata": {},
   "outputs": [
    {
     "name": "stdout",
     "output_type": "stream",
     "text": [
      "1\n",
      "2\n",
      "3\n"
     ]
    }
   ],
   "source": [
    "def bc():\n",
    "    yield 1\n",
    "    yield 2\n",
    "    yield 3\n",
    "   # print(bc)\n",
    "    #print(__next(bc))\n",
    "for value in bc():  #function call bc() in for loop\n",
    "    print(value)"
   ]
  },
  {
   "cell_type": "code",
   "execution_count": 3,
   "metadata": {},
   "outputs": [
    {
     "data": {
      "text/plain": [
       "<generator object bc at 0x7fa2082ef550>"
      ]
     },
     "execution_count": 3,
     "metadata": {},
     "output_type": "execute_result"
    }
   ],
   "source": [
    "def bc():\n",
    "    yield 1\n",
    "    yield 2\n",
    "    yield 3\n",
    "    print(bc)\n",
    "bc()    \n",
    " "
   ]
  },
  {
   "cell_type": "code",
   "execution_count": 5,
   "metadata": {},
   "outputs": [
    {
     "name": "stdout",
     "output_type": "stream",
     "text": [
      "1\n",
      "4\n",
      "9\n",
      "16\n",
      "25\n",
      "36\n",
      "49\n",
      "64\n",
      "81\n",
      "100\n"
     ]
    }
   ],
   "source": [
    "def abc():\n",
    "    i=1; #initializing i with 1\n",
    "    while True: #infinite loop\n",
    "        yield i*i #generator\n",
    "        i+=1\n",
    "for x in abc():\n",
    "    if(x>100):\n",
    "        break\n",
    "    print(x)   "
   ]
  },
  {
   "cell_type": "code",
   "execution_count": 20,
   "metadata": {},
   "outputs": [
    {
     "name": "stdout",
     "output_type": "stream",
     "text": [
      "1\n",
      "2\n",
      "3\n",
      "\n",
      "\n",
      "1\n",
      "2\n",
      "3\n"
     ]
    }
   ],
   "source": [
    "def bc():\n",
    "    yield 1\n",
    "    yield 2\n",
    "    yield 3\n",
    "x=bc()\n",
    "print(x.__next__()) # double underscore is used along with next function with paranthesis= __next__()\n",
    "print(x.__next__())\n",
    "print(x.__next__()) \n",
    "#print(x.__next__()) it will give message of stop iteration\n",
    "print('\\n')\n",
    "for a in bc(): #here for loop automatically will stop the iteration\n",
    "    print(a)"
   ]
  },
  {
   "cell_type": "code",
   "execution_count": 10,
   "metadata": {},
   "outputs": [
    {
     "name": "stdout",
     "output_type": "stream",
     "text": [
      "0\n",
      "1\n",
      "1\n",
      "2\n",
      "3\n",
      "by using for loop: \n",
      "0\n",
      "1\n",
      "1\n",
      "2\n",
      "3\n",
      "5\n",
      "8\n"
     ]
    }
   ],
   "source": [
    "#fibonacci series using generator\n",
    "def fib(limit):\n",
    "    a,b=0,1\n",
    "    while a<limit:    \n",
    "        yield a\n",
    "        a,b=b,a+b\n",
    "x=fib(5)\n",
    "print(x.__next__())\n",
    "print(x.__next__())\n",
    "print(x.__next__())\n",
    "print(x.__next__())\n",
    "print(x.__next__())\n",
    "#print(x.__next__()) #show stop iteration \n",
    "# now by using for in loop\n",
    "print('by using for loop: ')\n",
    "for a in fib(10):\n",
    "    print(a)"
   ]
  },
  {
   "cell_type": "code",
   "execution_count": 11,
   "metadata": {},
   "outputs": [
    {
     "name": "stdout",
     "output_type": "stream",
     "text": [
      "<function <lambda> at 0x7f238c598290>\n"
     ]
    }
   ],
   "source": [
    "# lambda function\n",
    "str1=\"hello world\"\n",
    "print(lambda str1:str1)"
   ]
  },
  {
   "cell_type": "code",
   "execution_count": 13,
   "metadata": {},
   "outputs": [
    {
     "name": "stdout",
     "output_type": "stream",
     "text": [
      "geeksforgeeks\n"
     ]
    }
   ],
   "source": [
    "x='geeksforgeeks'\n",
    "lambda x: x\n",
    "print(x)"
   ]
  },
  {
   "cell_type": "code",
   "execution_count": 17,
   "metadata": {},
   "outputs": [
    {
     "name": "stdout",
     "output_type": "stream",
     "text": [
      "geeksforgeeks\n"
     ]
    }
   ],
   "source": [
    "x='geeksforgeeks'\n",
    "(lambda x: print(x))(x)\n"
   ]
  },
  {
   "cell_type": "code",
   "execution_count": 26,
   "metadata": {},
   "outputs": [
    {
     "name": "stdout",
     "output_type": "stream",
     "text": [
      "sum:  6 \n",
      "multiplty:  8\n"
     ]
    }
   ],
   "source": [
    "x=lambda a,b,c: a+b+c\n",
    "y=lambda a,b,c: a*b*c\n",
    "\n",
    "print('sum: ',x(1,2,3),'\\nmultiplty: ',y(2,2,2))\n"
   ]
  },
  {
   "cell_type": "code",
   "execution_count": 28,
   "metadata": {},
   "outputs": [
    {
     "name": "stdout",
     "output_type": "stream",
     "text": [
      "enter the value of a: 1\n",
      "enter the value of b: 3\n",
      "enter the value of c: 2\n",
      "sum:  6 \n",
      "multiplty:  6\n"
     ]
    }
   ],
   "source": [
    "a=int(input('enter the value of a: '))\n",
    "b=int(input('enter the value of b: '))\n",
    "c=int(input('enter the value of c: '))\n",
    "x=lambda a,b,c: a+b+c\n",
    "y=lambda a,b,c: a*b*c\n",
    "\n",
    "print('sum: ',x(a,b,c),'\\nmultiplty: ',y(a,b,c))\n"
   ]
  },
  {
   "cell_type": "code",
   "execution_count": 43,
   "metadata": {},
   "outputs": [
    {
     "name": "stdout",
     "output_type": "stream",
     "text": [
      "enter the value for square: 4\n",
      "normal fuunction\n",
      "16\n",
      "lambda function\n",
      "16\n"
     ]
    }
   ],
   "source": [
    "#normal function\n",
    "x=int(input('enter the value for square: '))\n",
    "def abc(a):\n",
    "    return a*a\n",
    "print('normal fuunction')\n",
    "print(abc(x)) \n",
    "#lambda function\n",
    "y=lambda a:a*a\n",
    "print('lambda function')\n",
    "print(y(x))"
   ]
  },
  {
   "cell_type": "code",
   "execution_count": 40,
   "metadata": {},
   "outputs": [
    {
     "name": "stdout",
     "output_type": "stream",
     "text": [
      "25\n"
     ]
    }
   ],
   "source": [
    "def abc(n):\n",
    "    return lambda a: a**n #it will return a**2 back to the function call and store in variable x\n",
    "x=abc(2)\n",
    "print(x(5)) # this is the lambda function call in which we pass the 5 as a value to variable a"
   ]
  },
  {
   "cell_type": "code",
   "execution_count": 42,
   "metadata": {},
   "outputs": [
    {
     "name": "stdout",
     "output_type": "stream",
     "text": [
      "25\n"
     ]
    }
   ],
   "source": [
    "x=lambda a: a*a\n",
    "a=x(5) #lambda function call\n",
    "print(a)"
   ]
  },
  {
   "cell_type": "code",
   "execution_count": 52,
   "metadata": {},
   "outputs": [
    {
     "name": "stdout",
     "output_type": "stream",
     "text": [
      "[100, 20, 30, 8, 10, 76]\n",
      "[True, True, True, False, False, True, False, True, False, False, True]\n"
     ]
    }
   ],
   "source": [
    "# filter function\n",
    "a=[100,20,30,3,7,8,9,10,21,75,76]\n",
    "x=filter(lambda b: b%2==0, a )\n",
    "y=map(lambda b:b%2==0,a)\n",
    "print(list(x))\n",
    "print(list(y))"
   ]
  },
  {
   "cell_type": "code",
   "execution_count": 51,
   "metadata": {},
   "outputs": [
    {
     "name": "stdout",
     "output_type": "stream",
     "text": [
      "(True, True, True, False, False, True, False, True, False, False, True)\n",
      "[]\n"
     ]
    }
   ],
   "source": [
    "#map function\n",
    "\n",
    "a=[100,20,30,3,7,8,9,10,21,75,76]\n",
    "y=map(lambda b:b%2==0,a)\n",
    "print(tuple(y))\n",
    "print(list(y))"
   ]
  },
  {
   "cell_type": "code",
   "execution_count": null,
   "metadata": {},
   "outputs": [],
   "source": []
  }
 ],
 "metadata": {
  "kernelspec": {
   "display_name": "Python 3",
   "language": "python",
   "name": "python3"
  },
  "language_info": {
   "codemirror_mode": {
    "name": "ipython",
    "version": 3
   },
   "file_extension": ".py",
   "mimetype": "text/x-python",
   "name": "python",
   "nbconvert_exporter": "python",
   "pygments_lexer": "ipython3",
   "version": "3.7.9"
  }
 },
 "nbformat": 4,
 "nbformat_minor": 4
}

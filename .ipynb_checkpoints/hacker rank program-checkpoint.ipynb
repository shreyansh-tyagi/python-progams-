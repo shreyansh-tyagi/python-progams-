{
 "cells": [
  {
   "cell_type": "code",
   "execution_count": 42,
   "metadata": {},
   "outputs": [
    {
     "name": "stdout",
     "output_type": "stream",
     "text": [
      "enter the value: 4\n",
      "1\n",
      "36980 2\n",
      "36960 3\n",
      "36940 4\n",
      "36920 5\n",
      "36900 6\n",
      "36880 7\n",
      "36860 8\n",
      "36840 9\n",
      "36820 10\n",
      "36800 11\n",
      "36780 12\n",
      "36760 13\n",
      "36740 14\n",
      "36720 15\n",
      "36700 16\n",
      "36680 17\n",
      "36660 18\n",
      "36640 19\n",
      "36620 20\n",
      "36600 21\n",
      "36580 22\n",
      "36560 23\n",
      "36540 24\n",
      "36520 25\n",
      "36500 26\n",
      "36480 27\n",
      "36460 28\n",
      "36440 29\n",
      "36420 30\n",
      "36400 [36980, 36960, 36940, 36920, 36900, 36880, 36860, 36840, 36820, 36800, 36780, 36760, 36740, 36720, 36700, 36680, 36660, 36640, 36620, 36600, 36580, 36560, 36540, 36520, 36500, 36480, 36460, 36440, 36420, 36400]\n",
      "36980 36960 36940 36920 \n",
      "36920\n"
     ]
    }
   ],
   "source": [
    "n=int(input('enter the value: '))\n",
    "#print(n)\n",
    "b=37000\n",
    "a=[]\n",
    "for i in range(1,31):\n",
    "    b-=20\n",
    "    a.append(b)\n",
    "    #print(i)\n",
    "    #print(b,end=' ')\n",
    "#print(a)  \n",
    "for i in range(0,n):\n",
    "    print(a[i],end=' ')\n",
    "print()    \n",
    "print(a[n-1])    \n",
    "   "
   ]
  },
  {
   "cell_type": "code",
   "execution_count": null,
   "metadata": {},
   "outputs": [],
   "source": []
  },
  {
   "cell_type": "code",
   "execution_count": null,
   "metadata": {},
   "outputs": [],
   "source": []
  }
 ],
 "metadata": {
  "kernelspec": {
   "display_name": "Python 3",
   "language": "python",
   "name": "python3"
  },
  "language_info": {
   "codemirror_mode": {
    "name": "ipython",
    "version": 3
   },
   "file_extension": ".py",
   "mimetype": "text/x-python",
   "name": "python",
   "nbconvert_exporter": "python",
   "pygments_lexer": "ipython3",
   "version": "3.7.9"
  }
 },
 "nbformat": 4,
 "nbformat_minor": 4
}

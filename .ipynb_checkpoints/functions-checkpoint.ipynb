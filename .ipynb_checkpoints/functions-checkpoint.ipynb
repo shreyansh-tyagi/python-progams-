{
 "cells": [
  {
   "cell_type": "markdown",
   "metadata": {},
   "source": [
    "# function"
   ]
  },
  {
   "cell_type": "code",
   "execution_count": 14,
   "metadata": {},
   "outputs": [
    {
     "name": "stdout",
     "output_type": "stream",
     "text": [
      "value of b:  10\n",
      "id of a:  94188532118560\n",
      "id of b:  94188532121440\n",
      "new value of b:  100\n"
     ]
    }
   ],
   "source": [
    "#pass by value\n",
    "a=10\n",
    "def fun_name(b):\n",
    "    print('value of b: ',b)\n",
    "    print('id of a: ',id(b))\n",
    "    b=100\n",
    "    print('id of b: ',id(b))\n",
    "    print('new value of b: ',b)\n",
    "fun_name(a)    "
   ]
  },
  {
   "cell_type": "code",
   "execution_count": 16,
   "metadata": {},
   "outputs": [
    {
     "name": "stdout",
     "output_type": "stream",
     "text": [
      "id of a:  140186127288352\n",
      "fisrt list:  [10, 20, 30]\n",
      "id of a:  {140186127288352}\n",
      "id of b:  {140186127288352}\n",
      "second list:  [99, 21, 30]\n"
     ]
    }
   ],
   "source": [
    "#pass by reference\n",
    "a=[10,20,30]\n",
    "print('id of a: ',id(a))\n",
    "def fun_name(b):\n",
    "    print('fisrt list: ',b)\n",
    "    print('id of a: ',{id(b)})\n",
    "    b[0]=99\n",
    "    b[1]=21\n",
    "    print('id of b: ',{id(b)})\n",
    "    print('second list: ',b)\n",
    "fun_name(a)    "
   ]
  },
  {
   "cell_type": "code",
   "execution_count": 9,
   "metadata": {},
   "outputs": [
    {
     "name": "stdout",
     "output_type": "stream",
     "text": [
      "x: 20\n",
      "y: 10\n"
     ]
    }
   ],
   "source": [
    "def fun1(x,y):\n",
    "    print('x:',x)\n",
    "    print('y:',y)\n",
    "fun1(20,10)    "
   ]
  },
  {
   "cell_type": "code",
   "execution_count": 11,
   "metadata": {},
   "outputs": [
    {
     "name": "stdout",
     "output_type": "stream",
     "text": [
      "geeksforgeeks practice\n",
      "geeksforgeeks practice\n"
     ]
    }
   ],
   "source": [
    "def student(firstname,lastname):\n",
    "    print(firstname,lastname)\n",
    "student(firstname='geeksforgeeks',lastname='practice')\n",
    "student(lastname='practice',firstname='geeksforgeeks')"
   ]
  },
  {
   "cell_type": "code",
   "execution_count": 16,
   "metadata": {},
   "outputs": [
    {
     "name": "stdout",
     "output_type": "stream",
     "text": [
      "1\n",
      "2\n",
      "3\n",
      "hello\n",
      "world\n",
      "4\n",
      "5\n",
      "8\n"
     ]
    }
   ],
   "source": [
    "def fun1 (normal):\n",
    "    for i in normal:\n",
    "        print(i)\n",
    "lst=[1,2,3,'hello','world',4,5,8]\n",
    "fun1(lst)    "
   ]
  },
  {
   "cell_type": "code",
   "execution_count": 30,
   "metadata": {},
   "outputs": [
    {
     "name": "stdout",
     "output_type": "stream",
     "text": [
      "<class 'list'>\n",
      "31\n",
      "41\n",
      "3\n",
      "hello\n",
      "value\n",
      "4\n",
      "5\n",
      "<class 'list'>\n"
     ]
    }
   ],
   "source": [
    "lst=[1,2,3,'hello','value',4,5]\n",
    "print(type(lst))\n",
    "fun1(lst)\n",
    "print(type(lst))\n",
    "def fun1 (normal):\n",
    "    normal[0]=31\n",
    "    normal[1]=41\n",
    "    for i in normal:\n",
    "        print(i)\n",
    "        "
   ]
  },
  {
   "cell_type": "code",
   "execution_count": 32,
   "metadata": {},
   "outputs": [
    {
     "ename": "NameError",
     "evalue": "name 'func1' is not defined",
     "output_type": "error",
     "traceback": [
      "\u001b[0;31m---------------------------------------------------------------------------\u001b[0m",
      "\u001b[0;31mNameError\u001b[0m                                 Traceback (most recent call last)",
      "\u001b[0;32m<ipython-input-32-b3dc9b56dab7>\u001b[0m in \u001b[0;36m<module>\u001b[0;34m\u001b[0m\n\u001b[0;32m----> 1\u001b[0;31m \u001b[0mfunc1\u001b[0m\u001b[0;34m(\u001b[0m\u001b[0mx\u001b[0m\u001b[0;34m)\u001b[0m\u001b[0;34m\u001b[0m\u001b[0;34m\u001b[0m\u001b[0m\n\u001b[0m\u001b[1;32m      2\u001b[0m \u001b[0mx\u001b[0m\u001b[0;34m=\u001b[0m\u001b[0;34m(\u001b[0m\u001b[0;34m'helo'\u001b[0m\u001b[0;34m,\u001b[0m\u001b[0;34m'wrold'\u001b[0m\u001b[0;34m,\u001b[0m\u001b[0;36m1\u001b[0m\u001b[0;34m,\u001b[0m\u001b[0;36m2\u001b[0m\u001b[0;34m)\u001b[0m\u001b[0;34m\u001b[0m\u001b[0;34m\u001b[0m\u001b[0m\n\u001b[1;32m      3\u001b[0m \u001b[0;34m\u001b[0m\u001b[0m\n\u001b[1;32m      4\u001b[0m \u001b[0;32mdef\u001b[0m \u001b[0mfunc1\u001b[0m\u001b[0;34m(\u001b[0m\u001b[0mx\u001b[0m\u001b[0;34m)\u001b[0m\u001b[0;34m:\u001b[0m\u001b[0;34m\u001b[0m\u001b[0;34m\u001b[0m\u001b[0m\n\u001b[1;32m      5\u001b[0m     \u001b[0mprint\u001b[0m\u001b[0;34m(\u001b[0m\u001b[0mx\u001b[0m\u001b[0;34m)\u001b[0m\u001b[0;34m\u001b[0m\u001b[0;34m\u001b[0m\u001b[0m\n",
      "\u001b[0;31mNameError\u001b[0m: name 'func1' is not defined"
     ]
    }
   ],
   "source": [
    "func1(x)\n",
    "x=('helo','wrold',1,2)\n",
    "\n",
    "def func1(x):\n",
    "    print(x)\n",
    "    "
   ]
  },
  {
   "cell_type": "code",
   "execution_count": null,
   "metadata": {},
   "outputs": [],
   "source": []
  }
 ],
 "metadata": {
  "kernelspec": {
   "display_name": "Python 3",
   "language": "python",
   "name": "python3"
  },
  "language_info": {
   "codemirror_mode": {
    "name": "ipython",
    "version": 3
   },
   "file_extension": ".py",
   "mimetype": "text/x-python",
   "name": "python",
   "nbconvert_exporter": "python",
   "pygments_lexer": "ipython3",
   "version": "3.7.9"
  }
 },
 "nbformat": 4,
 "nbformat_minor": 4
}

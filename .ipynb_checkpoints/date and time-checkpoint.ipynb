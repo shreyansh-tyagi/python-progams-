{
 "cells": [
  {
   "cell_type": "code",
   "execution_count": 25,
   "id": "aquatic-frequency",
   "metadata": {},
   "outputs": [
    {
     "name": "stdout",
     "output_type": "stream",
     "text": [
      "2021-01-25\n",
      "25\n",
      "1\n",
      "2021\n",
      "0\n",
      "1\n"
     ]
    }
   ],
   "source": [
    "import datetime\n",
    "a=datetime.date.today()\n",
    "print(a)\n",
    "print(a.day)\n",
    "print(a.month)\n",
    "print(a.year)\n",
    "print(a.weekday())\n",
    "print(a.isoweekday())"
   ]
  },
  {
   "cell_type": "code",
   "execution_count": 17,
   "id": "working-popularity",
   "metadata": {},
   "outputs": [
    {
     "name": "stdout",
     "output_type": "stream",
     "text": [
      "2020-03-08\n"
     ]
    }
   ],
   "source": [
    "import datetime\n",
    "b=datetime.date(2020,3,8)\n",
    "print(b)"
   ]
  },
  {
   "cell_type": "code",
   "execution_count": 32,
   "id": "equal-encoding",
   "metadata": {},
   "outputs": [
    {
     "name": "stdout",
     "output_type": "stream",
     "text": [
      "62\n"
     ]
    }
   ],
   "source": [
    "import datetime\n",
    "a=datetime.date.today() #storing todays date in variable 'a'\n",
    "b=datetime.date(2020,11,24) # earlier date to know how close we are to this date\n",
    "c=a-b\n",
    "print(c.days)"
   ]
  },
  {
   "cell_type": "code",
   "execution_count": null,
   "id": "geographic-fetish",
   "metadata": {},
   "outputs": [],
   "source": []
  }
 ],
 "metadata": {
  "kernelspec": {
   "display_name": "Python 3",
   "language": "python",
   "name": "python3"
  },
  "language_info": {
   "codemirror_mode": {
    "name": "ipython",
    "version": 3
   },
   "file_extension": ".py",
   "mimetype": "text/x-python",
   "name": "python",
   "nbconvert_exporter": "python",
   "pygments_lexer": "ipython3",
   "version": "3.7.9"
  }
 },
 "nbformat": 4,
 "nbformat_minor": 5
}

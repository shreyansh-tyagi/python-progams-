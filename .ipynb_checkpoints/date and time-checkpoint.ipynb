{
 "cells": [
  {
   "cell_type": "code",
   "execution_count": 25,
   "id": "aquatic-frequency",
   "metadata": {},
   "outputs": [
    {
     "name": "stdout",
     "output_type": "stream",
     "text": [
      "2021-01-25\n",
      "25\n",
      "1\n",
      "2021\n",
      "0\n",
      "1\n"
     ]
    }
   ],
   "source": [
    "import datetime\n",
    "a=datetime.date.today()\n",
    "print(a)\n",
    "print(a.day)\n",
    "print(a.month)\n",
    "print(a.year)\n",
    "print(a.weekday())\n",
    "print(a.isoweekday())"
   ]
  },
  {
   "cell_type": "code",
   "execution_count": 17,
   "id": "suburban-newcastle",
   "metadata": {},
   "outputs": [
    {
     "name": "stdout",
     "output_type": "stream",
     "text": [
      "2020-03-08\n"
     ]
    }
   ],
   "source": [
    "import datetime\n",
    "b=datetime.date(2020,3,8)\n",
    "print(b)"
   ]
  },
  {
   "cell_type": "code",
   "execution_count": 35,
   "id": "lightweight-flavor",
   "metadata": {},
   "outputs": [
    {
     "name": "stdout",
     "output_type": "stream",
     "text": [
      "62 days, 0:00:00\n",
      "62\n"
     ]
    }
   ],
   "source": [
    "import datetime\n",
    "a=datetime.date.today() #storing todays date in variable 'a'\n",
    "b=datetime.date(2020,11,24) # earlier date to know how close we are to this date\n",
    "c=a-b\n",
    "print(c)\n",
    "print(c.days)"
   ]
  },
  {
   "cell_type": "code",
   "execution_count": 38,
   "id": "rocky-alarm",
   "metadata": {},
   "outputs": [
    {
     "name": "stdout",
     "output_type": "stream",
     "text": [
      "11:23:56.001009\n"
     ]
    }
   ],
   "source": [
    "import datetime\n",
    "a=datetime.time(11,23,56,1009)\n",
    "print(a)"
   ]
  },
  {
   "cell_type": "code",
   "execution_count": 42,
   "id": "headed-assessment",
   "metadata": {},
   "outputs": [
    {
     "name": "stdout",
     "output_type": "stream",
     "text": [
      "219\n"
     ]
    }
   ],
   "source": [
    "# calculating how many days are left from now to my birthday\n",
    "import datetime\n",
    "a=datetime.date.today() #storing todays date \n",
    "b=datetime.date(2021,9,2) #storing my birthday date\n",
    "c=b-a #calculating how many days left from now to birthday\n",
    "print(c.days)"
   ]
  },
  {
   "cell_type": "code",
   "execution_count": null,
   "id": "sticky-hawaiian",
   "metadata": {},
   "outputs": [],
   "source": []
  }
 ],
 "metadata": {
  "kernelspec": {
   "display_name": "Python 3",
   "language": "python",
   "name": "python3"
  },
  "language_info": {
   "codemirror_mode": {
    "name": "ipython",
    "version": 3
   },
   "file_extension": ".py",
   "mimetype": "text/x-python",
   "name": "python",
   "nbconvert_exporter": "python",
   "pygments_lexer": "ipython3",
   "version": "3.7.9"
  }
 },
 "nbformat": 4,
 "nbformat_minor": 5
}

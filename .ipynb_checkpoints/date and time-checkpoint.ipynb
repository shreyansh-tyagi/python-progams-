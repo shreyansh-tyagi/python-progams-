{
 "cells": [
  {
   "cell_type": "code",
   "execution_count": 25,
   "id": "aquatic-frequency",
   "metadata": {},
   "outputs": [
    {
     "name": "stdout",
     "output_type": "stream",
     "text": [
      "2021-01-25\n",
      "25\n",
      "1\n",
      "2021\n",
      "0\n",
      "1\n"
     ]
    }
   ],
   "source": [
    "import datetime\n",
    "a=datetime.date.today()\n",
    "print(a)\n",
    "print(a.day)\n",
    "print(a.month)\n",
    "print(a.year)\n",
    "print(a.weekday())\n",
    "print(a.isoweekday())"
   ]
  },
  {
   "cell_type": "code",
   "execution_count": 17,
   "id": "developing-cassette",
   "metadata": {},
   "outputs": [
    {
     "name": "stdout",
     "output_type": "stream",
     "text": [
      "2020-03-08\n"
     ]
    }
   ],
   "source": [
    "import datetime\n",
    "b=datetime.date(2020,3,8)\n",
    "print(b)"
   ]
  },
  {
   "cell_type": "code",
   "execution_count": 35,
   "id": "liquid-particular",
   "metadata": {},
   "outputs": [
    {
     "name": "stdout",
     "output_type": "stream",
     "text": [
      "62 days, 0:00:00\n",
      "62\n"
     ]
    }
   ],
   "source": [
    "import datetime\n",
    "a=datetime.date.today() #storing todays date in variable 'a'\n",
    "b=datetime.date(2020,11,24) # earlier date to know how close we are to this date\n",
    "c=a-b\n",
    "print(c)\n",
    "print(c.days)"
   ]
  },
  {
   "cell_type": "code",
   "execution_count": 38,
   "id": "alert-metadata",
   "metadata": {},
   "outputs": [
    {
     "name": "stdout",
     "output_type": "stream",
     "text": [
      "11:23:56.001009\n"
     ]
    }
   ],
   "source": [
    "import datetime\n",
    "a=datetime.time(11,23,56,1009)\n",
    "print(a)"
   ]
  },
  {
   "cell_type": "code",
   "execution_count": 42,
   "id": "worst-audit",
   "metadata": {},
   "outputs": [
    {
     "name": "stdout",
     "output_type": "stream",
     "text": [
      "219\n"
     ]
    }
   ],
   "source": [
    "# calculating how many days are left from now to my birthday\n",
    "import datetime\n",
    "a=datetime.date.today() #storing todays date \n",
    "b=datetime.date(2021,9,2) #storing my birthday date\n",
    "c=b-a #calculating how many days left from now to birthday\n",
    "print(c.days)"
   ]
  },
  {
   "cell_type": "code",
   "execution_count": 46,
   "id": "north-vitamin",
   "metadata": {},
   "outputs": [
    {
     "name": "stdout",
     "output_type": "stream",
     "text": [
      "2021-09-02 12:11:55.001004\n"
     ]
    }
   ],
   "source": [
    "import datetime\n",
    "a=datetime.datetime(2021,9,2,12,11,55,1004) #to take date along with time\n",
    "print(a)"
   ]
  },
  {
   "cell_type": "code",
   "execution_count": 48,
   "id": "intensive-toddler",
   "metadata": {},
   "outputs": [
    {
     "name": "stdout",
     "output_type": "stream",
     "text": [
      "2021-09-02\n"
     ]
    }
   ],
   "source": [
    "# to calculate the furture date through time\n",
    "import datetime\n",
    "a=datetime.date(2020,9,2)\n",
    "b=datetime.timedelta(days=365)\n",
    "print(b+a)"
   ]
  },
  {
   "cell_type": "code",
   "execution_count": 49,
   "id": "different-initial",
   "metadata": {},
   "outputs": [
    {
     "name": "stdout",
     "output_type": "stream",
     "text": [
      "2021-09-02 12:23:45.001002\n"
     ]
    }
   ],
   "source": [
    "import datetime\n",
    "a=datetime.datetime(2020,9,2,12,23,45,1002)\n",
    "b=datetime.timedelta(days=365)\n",
    "print(b+a)"
   ]
  },
  {
   "cell_type": "code",
   "execution_count": 3,
   "id": "composite-vacuum",
   "metadata": {},
   "outputs": [
    {
     "name": "stdout",
     "output_type": "stream",
     "text": [
      "2020-09-02\n",
      "<class 'str'>\n",
      "2020-09-02\n",
      "<class 'datetime.date'>\n",
      "2021-09-02\n",
      "365 days, 0:00:00\n",
      "2021-02-11\n",
      "203\n",
      "<class 'datetime.timedelta'>\n"
     ]
    }
   ],
   "source": [
    "#covert a string date into date object\n",
    "import datetime\n",
    "a='2020-09-02'\n",
    "b=datetime.date.fromisoformat(a) #convert string to actual date\n",
    "c=datetime.timedelta(days=365) #add 365 to date \n",
    "d=datetime.date.today()\n",
    "e=(b+c)-d\n",
    "print(a) \n",
    "print(type(a))\n",
    "print(b)\n",
    "print(type(b))\n",
    "print(c)\n",
    "print(b+c)\n",
    "print(d)\n",
    "print(e.days)\n",
    "print(type(e))\n",
    "\n"
   ]
  },
  {
   "cell_type": "code",
   "execution_count": null,
   "id": "civic-marijuana",
   "metadata": {},
   "outputs": [],
   "source": []
  }
 ],
 "metadata": {
  "kernelspec": {
   "display_name": "Python 3",
   "language": "python",
   "name": "python3"
  },
  "language_info": {
   "codemirror_mode": {
    "name": "ipython",
    "version": 3
   },
   "file_extension": ".py",
   "mimetype": "text/x-python",
   "name": "python",
   "nbconvert_exporter": "python",
   "pygments_lexer": "ipython3",
   "version": "3.7.9"
  }
 },
 "nbformat": 4,
 "nbformat_minor": 5
}

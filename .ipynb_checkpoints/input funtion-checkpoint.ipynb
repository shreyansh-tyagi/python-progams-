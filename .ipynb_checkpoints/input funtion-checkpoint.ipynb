{
 "cells": [
  {
   "cell_type": "markdown",
   "metadata": {},
   "source": [
    "# input function"
   ]
  },
  {
   "cell_type": "code",
   "execution_count": 1,
   "metadata": {},
   "outputs": [
    {
     "name": "stdout",
     "output_type": "stream",
     "text": [
      "enter firsrt number2\n",
      "enter second number3\n",
      "23\n"
     ]
    }
   ],
   "source": [
    "#input function:- it change the value of input into string whether it is string,int,float \n",
    "#input function will chnage it to string\n",
    "a=input('enter firsrt number')  #2 is treated as string\n",
    "b=input('enter second number')  #3 is treated as string\n",
    "c=a+b  #concatenate '2'+'3'gives '23'\n",
    "print(c)"
   ]
  },
  {
   "cell_type": "code",
   "execution_count": 4,
   "metadata": {},
   "outputs": [
    {
     "name": "stdout",
     "output_type": "stream",
     "text": [
      "enter firsrt number2\n",
      "enter second number3\n",
      "c value is5\n"
     ]
    }
   ],
   "source": [
    "#int function to change the string value into integer\n",
    "#string function to change the integer value to string\n",
    "a=int(input('enter firsrt number')) #input function chnge value to string and \n",
    "                                    #int function will chng that to integer\n",
    "b=int(input('enter second number'))\n",
    "c=a+b # here c holds the addition of a and b which integer therefore c value also become integer \n",
    "print('c value is'+str(c))#as c is integer it not possible to concatenate c value therefore use str funtion \n",
    "#to change it again to string"
   ]
  },
  {
   "cell_type": "code",
   "execution_count": 5,
   "metadata": {},
   "outputs": [
    {
     "name": "stdout",
     "output_type": "stream",
     "text": [
      "enter firsrt number54.90\n",
      "enter second number12\n",
      "c value is66.9\n"
     ]
    }
   ],
   "source": [
    "#float function to change the string value to float\n",
    "a=float(input('enter firsrt number'))\n",
    "b=int(input('enter second number'))\n",
    "c=a+b\n",
    "print('c value is'+str(c))"
   ]
  },
  {
   "cell_type": "code",
   "execution_count": 11,
   "metadata": {},
   "outputs": [
    {
     "name": "stdout",
     "output_type": "stream",
     "text": [
      "enter your name: shreyansh\n",
      "enter your \n",
      " sirname: tyagi\n",
      "c value:shreyanshtyagi\n"
     ]
    }
   ],
   "source": [
    "a=input('enter your name: ')\n",
    "b=input('enter your \\n sirname: ') #\\n is used to print the item in next line\n",
    "c=a+b\n",
    "print('c value:' +str(c)) #convert into string which is already string because c contains string value only"
   ]
  },
  {
   "cell_type": "code",
   "execution_count": 1,
   "metadata": {},
   "outputs": [
    {
     "ename": "SyntaxError",
     "evalue": "invalid syntax (<ipython-input-1-4e3f4fafa2dd>, line 4)",
     "output_type": "error",
     "traceback": [
      "\u001b[0;36m  File \u001b[0;32m\"<ipython-input-1-4e3f4fafa2dd>\"\u001b[0;36m, line \u001b[0;32m4\u001b[0m\n\u001b[0;31m    else\u001b[0m\n\u001b[0m        ^\u001b[0m\n\u001b[0;31mSyntaxError\u001b[0m\u001b[0;31m:\u001b[0m invalid syntax\n"
     ]
    }
   ],
   "source": [
    "a=int(input('enter the number: '))\n",
    "if(a%2==0):\n",
    "    print('even number:' +a)\n",
    "else:\n",
    "print('odd number:' +a)"
   ]
  },
  {
   "cell_type": "code",
   "execution_count": null,
   "metadata": {},
   "outputs": [],
   "source": []
  }
 ],
 "metadata": {
  "kernelspec": {
   "display_name": "Python 3",
   "language": "python",
   "name": "python3"
  },
  "language_info": {
   "codemirror_mode": {
    "name": "ipython",
    "version": 3
   },
   "file_extension": ".py",
   "mimetype": "text/x-python",
   "name": "python",
   "nbconvert_exporter": "python",
   "pygments_lexer": "ipython3",
   "version": "3.7.9"
  }
 },
 "nbformat": 4,
 "nbformat_minor": 4
}

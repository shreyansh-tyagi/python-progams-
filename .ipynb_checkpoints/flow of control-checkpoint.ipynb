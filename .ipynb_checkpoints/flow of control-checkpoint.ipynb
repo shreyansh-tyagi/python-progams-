{
 "cells": [
  {
   "cell_type": "markdown",
   "metadata": {},
   "source": [
    "# if-else"
   ]
  },
  {
   "cell_type": "code",
   "execution_count": 10,
   "metadata": {},
   "outputs": [
    {
     "name": "stdout",
     "output_type": "stream",
     "text": [
      "enter the value of a 1\n",
      "enter the value of b 2\n",
      "enter the value of c 3\n",
      "c is greater and value is: 3\n"
     ]
    }
   ],
   "source": [
    "#largest among threee number\n",
    "a=int(input('enter the value of a '))\n",
    "b=int(input('enter the value of b '))\n",
    "c=int(input('enter the value of c ' ))\n",
    "if((a>b)and(a>c)):  # (and) operator is used\n",
    "    print('a is greater and value is: ' +str(a))\n",
    "elif((b>a)and(b>c)):\n",
    "    print('b is greater and value is: ' +str(b))\n",
    "else:  #in else statement it not possible to give condition\n",
    "    print('c is greater and value is: ' +str(c))"
   ]
  },
  {
   "cell_type": "code",
   "execution_count": 3,
   "metadata": {},
   "outputs": [
    {
     "name": "stdout",
     "output_type": "stream",
     "text": [
      "enter the gender of the employee: male\n",
      "enter the year of service: 2\n",
      "enter the qualification i.e. 0=\"graduate\" and 1=\"postgraduate\": 1\n",
      "salary of employee: 10000\n"
     ]
    }
   ],
   "source": [
    "#calculate the salary according to year of service and graduation differentiate with gender\n",
    "g=input('enter the gender of the employee: ') # g=gender\n",
    "y=int(input('enter the year of service: '))   # y=year\n",
    "q=int(input('enter the qualification i.e. 0=\"graduate\" and 1=\"postgraduate\": ')) #q=qualification\n",
    "if(g=='male'and y>=10 and q==1):\n",
    "    s=15000 # s=salary\n",
    "elif(g=='male'and y>=10 and q==0)or(g=='male' and y<10 and q==1):\n",
    "    s=10000\n",
    "elif(g=='male' and y<10 and q==0):\n",
    "    s=7000\n",
    "elif(g=='female' and y>=10 and q==1):\n",
    "    s=12000\n",
    "elif(g=='female' and y>=10 and q==0)or(g=='female' and y<10 and q==1):\n",
    "    s=11000\n",
    "elif(g=='female' and y<10 and q==0):\n",
    "    s=6000\n",
    "print('salary of employee: ' +str(s))    "
   ]
  },
  {
   "cell_type": "markdown",
   "metadata": {},
   "source": [
    "# "
   ]
  }
 ],
 "metadata": {
  "kernelspec": {
   "display_name": "Python 3",
   "language": "python",
   "name": "python3"
  },
  "language_info": {
   "codemirror_mode": {
    "name": "ipython",
    "version": 3
   },
   "file_extension": ".py",
   "mimetype": "text/x-python",
   "name": "python",
   "nbconvert_exporter": "python",
   "pygments_lexer": "ipython3",
   "version": "3.7.9"
  }
 },
 "nbformat": 4,
 "nbformat_minor": 4
}
